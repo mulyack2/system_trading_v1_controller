{
 "cells": [
  {
   "cell_type": "code",
   "execution_count": null,
   "metadata": {},
   "outputs": [],
   "source": [
    "import datetime as dt\n",
    "import pandas as pd\n",
    "\n",
    "from controller_tool._base_controller import BaseController\n",
    "from controller_tool._order_controller import OrderController\n",
    "from controller_tool._status_controller import StatusController\n",
    "from private import ControllerPrivate as cp"
   ]
  },
  {
   "cell_type": "code",
   "execution_count": null,
   "metadata": {},
   "outputs": [],
   "source": [
    "controller = BaseController(cp.api_key, cp.api_secret, cp.acc_no)\n",
    "controller.set_access_token()"
   ]
  },
  {
   "cell_type": "code",
   "execution_count": null,
   "metadata": {},
   "outputs": [],
   "source": [
    "status_controller = StatusController(controller)\n",
    "order_controller = OrderController(controller)"
   ]
  },
  {
   "cell_type": "code",
   "execution_count": null,
   "metadata": {},
   "outputs": [],
   "source": [
    "balance_df = status_controller.load_balance()\n",
    "balance_df"
   ]
  },
  {
   "cell_type": "code",
   "execution_count": null,
   "metadata": {},
   "outputs": [],
   "source": [
    "position_df = status_controller.load_position()\n",
    "position_df"
   ]
  },
  {
   "cell_type": "code",
   "execution_count": null,
   "metadata": {},
   "outputs": [],
   "source": [
    "buying_orders = [(\"011200\", 1), (\"003650\", 1), (\"123920\", 3)]"
   ]
  },
  {
   "cell_type": "code",
   "execution_count": null,
   "metadata": {},
   "outputs": [],
   "source": [
    "buying_resps = list()\n",
    "for buying_order in buying_orders:\n",
    "    resp = order_controller.make_market_buy_order(*buying_order)\n",
    "    buying_resps.append(resp)\n",
    "\n",
    "_buying_resps_df = pd.DataFrame(buying_resps)\n",
    "buying_resps_df = pd.concat(\n",
    "    [\n",
    "        _buying_resps_df[\"meta\"].apply(pd.Series),\n",
    "        _buying_resps_df.loc[:, [\"msg1\"]],\n",
    "    ],\n",
    "    axis=1,\n",
    ")\n",
    "buying_resps_df"
   ]
  },
  {
   "cell_type": "code",
   "execution_count": null,
   "metadata": {},
   "outputs": [],
   "source": [
    "_buying_resps_df = pd.DataFrame(buying_resps)\n",
    "buying_resps_df = pd.concat(\n",
    "    [\n",
    "        _buying_resps_df[\"meta\"].apply(pd.Series),\n",
    "        _buying_resps_df.loc[:, [\"msg1\"]],\n",
    "    ],\n",
    "    axis=1,\n",
    ")\n",
    "buying_resps_df"
   ]
  },
  {
   "cell_type": "code",
   "execution_count": null,
   "metadata": {},
   "outputs": [],
   "source": [
    "selling_orders = [(\"011200\", 1), (\"003650\", 1), (\"123920\", 3)]\n",
    "\n",
    "selling_resps = list()\n",
    "for selling_order in selling_orders:\n",
    "    resp = order_controller.make_market_sell_order(*selling_order)\n",
    "    selling_resps.append(resp)"
   ]
  },
  {
   "cell_type": "code",
   "execution_count": null,
   "metadata": {},
   "outputs": [],
   "source": [
    "_selling_resps_df = pd.DataFrame(selling_resps)\n",
    "selling_resps_df = pd.concat(\n",
    "    [\n",
    "        _selling_resps_df[\"meta\"].apply(pd.Series),\n",
    "        _selling_resps_df.loc[:, [\"msg1\"]],\n",
    "    ],\n",
    "    axis=1,\n",
    ")\n",
    "selling_resps_df"
   ]
  }
 ],
 "metadata": {
  "language_info": {
   "name": "python"
  }
 },
 "nbformat": 4,
 "nbformat_minor": 2
}
